{
  "nbformat": 4,
  "nbformat_minor": 0,
  "metadata": {
    "colab": {
      "provenance": [],
      "mount_file_id": "1S1gPbUjdTp_xk3WM-RN-mpNHctnZOB0u",
      "authorship_tag": "ABX9TyPzUlT1ZP2iaZoqWR6nQ+cQ",
      "include_colab_link": true
    },
    "kernelspec": {
      "name": "python3",
      "display_name": "Python 3"
    },
    "language_info": {
      "name": "python"
    }
  },
  "cells": [
    {
      "cell_type": "markdown",
      "metadata": {
        "id": "view-in-github",
        "colab_type": "text"
      },
      "source": [
        "<a href=\"https://colab.research.google.com/github/RosaR02/Sales-Predictions/blob/main/Sales_Prediction.ipynb\" target=\"_parent\"><img src=\"https://colab.research.google.com/assets/colab-badge.svg\" alt=\"Open In Colab\"/></a>"
      ]
    },
    {
      "cell_type": "markdown",
      "source": [
        "# Sales Prediction\n",
        "\n",
        "###Rosa Rocha"
      ],
      "metadata": {
        "id": "KNOvDaeFE8zb"
      }
    },
    {
      "cell_type": "code",
      "source": [
        "import pandas as pd\n",
        "import numpy as np\n",
        "import matplotlib.pyplot as plt\n",
        "import seaborn as sns\n"
      ],
      "metadata": {
        "id": "1UGnbOmOKR9h"
      },
      "execution_count": 46,
      "outputs": []
    },
    {
      "cell_type": "markdown",
      "source": [
        "## Loading Data"
      ],
      "metadata": {
        "id": "Q_BIhUt6GSr1"
      }
    },
    {
      "cell_type": "code",
      "source": [
        "df = pd.read_csv('/content/drive/MyDrive/Colab Notebooks/sales_predictions.csv')\n",
        "df.info()\n",
        "df.head()\n",
        "corr = df.corr()"
      ],
      "metadata": {
        "id": "Jz81suDWKZsO",
        "colab": {
          "base_uri": "https://localhost:8080/"
        },
        "outputId": "66590fb7-56de-43e7-c6cb-6b159bec8bbe"
      },
      "execution_count": 47,
      "outputs": [
        {
          "output_type": "stream",
          "name": "stdout",
          "text": [
            "<class 'pandas.core.frame.DataFrame'>\n",
            "RangeIndex: 8523 entries, 0 to 8522\n",
            "Data columns (total 12 columns):\n",
            " #   Column                     Non-Null Count  Dtype  \n",
            "---  ------                     --------------  -----  \n",
            " 0   Item_Identifier            8523 non-null   object \n",
            " 1   Item_Weight                7060 non-null   float64\n",
            " 2   Item_Fat_Content           8523 non-null   object \n",
            " 3   Item_Visibility            8523 non-null   float64\n",
            " 4   Item_Type                  8523 non-null   object \n",
            " 5   Item_MRP                   8523 non-null   float64\n",
            " 6   Outlet_Identifier          8523 non-null   object \n",
            " 7   Outlet_Establishment_Year  8523 non-null   int64  \n",
            " 8   Outlet_Size                6113 non-null   object \n",
            " 9   Outlet_Location_Type       8523 non-null   object \n",
            " 10  Outlet_Type                8523 non-null   object \n",
            " 11  Item_Outlet_Sales          8523 non-null   float64\n",
            "dtypes: float64(4), int64(1), object(7)\n",
            "memory usage: 799.2+ KB\n"
          ]
        }
      ]
    },
    {
      "cell_type": "markdown",
      "source": [
        "## Data Cleaning"
      ],
      "metadata": {
        "id": "utO_k96EGzaW"
      }
    },
    {
      "cell_type": "code",
      "source": [
        "#Explore the data - what do you need to do to clean this data? Clean it!\n",
        "\n",
        "df.shape"
      ],
      "metadata": {
        "colab": {
          "base_uri": "https://localhost:8080/"
        },
        "id": "94Y76qxELXnV",
        "outputId": "2673bfd6-8a0b-49aa-a6d2-d6ff6a357de9"
      },
      "execution_count": 48,
      "outputs": [
        {
          "output_type": "execute_result",
          "data": {
            "text/plain": [
              "(8523, 12)"
            ]
          },
          "metadata": {},
          "execution_count": 48
        }
      ]
    },
    {
      "cell_type": "code",
      "source": [
        "\n",
        "df.dtypes"
      ],
      "metadata": {
        "colab": {
          "base_uri": "https://localhost:8080/"
        },
        "id": "YygZcZ4xL5v4",
        "outputId": "7a3c880e-6d4e-444b-9361-6834857ff904"
      },
      "execution_count": 49,
      "outputs": [
        {
          "output_type": "execute_result",
          "data": {
            "text/plain": [
              "Item_Identifier               object\n",
              "Item_Weight                  float64\n",
              "Item_Fat_Content              object\n",
              "Item_Visibility              float64\n",
              "Item_Type                     object\n",
              "Item_MRP                     float64\n",
              "Outlet_Identifier             object\n",
              "Outlet_Establishment_Year      int64\n",
              "Outlet_Size                   object\n",
              "Outlet_Location_Type          object\n",
              "Outlet_Type                   object\n",
              "Item_Outlet_Sales            float64\n",
              "dtype: object"
            ]
          },
          "metadata": {},
          "execution_count": 49
        }
      ]
    },
    {
      "cell_type": "code",
      "source": [
        "df.duplicated().sum()"
      ],
      "metadata": {
        "colab": {
          "base_uri": "https://localhost:8080/"
        },
        "id": "tLlv--OHeoL_",
        "outputId": "77db2f56-ff9f-451a-d8cc-91a6cffb1078"
      },
      "execution_count": 50,
      "outputs": [
        {
          "output_type": "execute_result",
          "data": {
            "text/plain": [
              "0"
            ]
          },
          "metadata": {},
          "execution_count": 50
        }
      ]
    },
    {
      "cell_type": "code",
      "source": [
        "df.isna().sum()"
      ],
      "metadata": {
        "colab": {
          "base_uri": "https://localhost:8080/"
        },
        "id": "qSNOFaiihHDA",
        "outputId": "b1c875bb-ad83-40c4-8580-d8068fa1334e"
      },
      "execution_count": 51,
      "outputs": [
        {
          "output_type": "execute_result",
          "data": {
            "text/plain": [
              "Item_Identifier                 0\n",
              "Item_Weight                  1463\n",
              "Item_Fat_Content                0\n",
              "Item_Visibility                 0\n",
              "Item_Type                       0\n",
              "Item_MRP                        0\n",
              "Outlet_Identifier               0\n",
              "Outlet_Establishment_Year       0\n",
              "Outlet_Size                  2410\n",
              "Outlet_Location_Type            0\n",
              "Outlet_Type                     0\n",
              "Item_Outlet_Sales               0\n",
              "dtype: int64"
            ]
          },
          "metadata": {},
          "execution_count": 51
        }
      ]
    },
    {
      "cell_type": "code",
      "source": [
        "df.isna().sum() / len(df) * 100\n",
        "     "
      ],
      "metadata": {
        "colab": {
          "base_uri": "https://localhost:8080/"
        },
        "id": "MHpbhDKzkqEs",
        "outputId": "d8d7a555-69e4-4189-c1a3-b4275a79a8f7"
      },
      "execution_count": 52,
      "outputs": [
        {
          "output_type": "execute_result",
          "data": {
            "text/plain": [
              "Item_Identifier               0.000000\n",
              "Item_Weight                  17.165317\n",
              "Item_Fat_Content              0.000000\n",
              "Item_Visibility               0.000000\n",
              "Item_Type                     0.000000\n",
              "Item_MRP                      0.000000\n",
              "Outlet_Identifier             0.000000\n",
              "Outlet_Establishment_Year     0.000000\n",
              "Outlet_Size                  28.276428\n",
              "Outlet_Location_Type          0.000000\n",
              "Outlet_Type                   0.000000\n",
              "Item_Outlet_Sales             0.000000\n",
              "dtype: float64"
            ]
          },
          "metadata": {},
          "execution_count": 52
        }
      ]
    },
    {
      "cell_type": "code",
      "source": [
        "plt.style.use(['dark_background','seaborn-muted', 'seaborn-poster'])"
      ],
      "metadata": {
        "id": "nJ6iJ7eBlPsI",
        "colab": {
          "base_uri": "https://localhost:8080/"
        },
        "outputId": "04233e72-1451-4d7f-e47d-85aaa92c1ef7"
      },
      "execution_count": 53,
      "outputs": [
        {
          "output_type": "stream",
          "name": "stderr",
          "text": [
            "<ipython-input-53-9109d13ca073>:1: MatplotlibDeprecationWarning: The seaborn styles shipped by Matplotlib are deprecated since 3.6, as they no longer correspond to the styles shipped by seaborn. However, they will remain available as 'seaborn-v0_8-<style>'. Alternatively, directly use the seaborn API instead.\n",
            "  plt.style.use(['dark_background','seaborn-muted', 'seaborn-poster'])\n",
            "<ipython-input-53-9109d13ca073>:1: MatplotlibDeprecationWarning: The seaborn styles shipped by Matplotlib are deprecated since 3.6, as they no longer correspond to the styles shipped by seaborn. However, they will remain available as 'seaborn-v0_8-<style>'. Alternatively, directly use the seaborn API instead.\n",
            "  plt.style.use(['dark_background','seaborn-muted', 'seaborn-poster'])\n"
          ]
        }
      ]
    },
    {
      "cell_type": "code",
      "source": [
        "df['Item_Weight'].value_counts()"
      ],
      "metadata": {
        "colab": {
          "base_uri": "https://localhost:8080/"
        },
        "id": "0o9Jb2pjlVsy",
        "outputId": "d31c915e-b1ae-4096-d4c4-63231104121a"
      },
      "execution_count": 54,
      "outputs": [
        {
          "output_type": "execute_result",
          "data": {
            "text/plain": [
              "12.150    86\n",
              "17.600    82\n",
              "13.650    77\n",
              "11.800    76\n",
              "15.100    68\n",
              "9.300     68\n",
              "10.500    66\n",
              "16.700    66\n",
              "19.350    63\n",
              "20.700    62\n",
              "16.000    62\n",
              "9.800     61\n",
              "17.700    60\n",
              "17.750    60\n",
              "18.850    59\n",
              "15.850    59\n",
              "15.000    59\n",
              "16.750    58\n",
              "18.250    58\n",
              "19.600    58\n",
              "15.700    57\n",
              "9.195     56\n",
              "12.500    56\n",
              "20.200    53\n",
              "12.100    53\n",
              "12.600    53\n",
              "10.195    53\n",
              "15.600    52\n",
              "13.500    51\n",
              "11.500    51\n",
              "19.700    50\n",
              "11.600    50\n",
              "20.250    50\n",
              "12.350    50\n",
              "12.850    49\n",
              "9.600     49\n",
              "12.300    49\n",
              "9.500     49\n",
              "13.150    49\n",
              "17.850    48\n",
              "20.350    47\n",
              "14.000    47\n",
              "15.500    47\n",
              "15.200    46\n",
              "16.500    46\n",
              "16.350    46\n",
              "17.250    45\n",
              "14.500    44\n",
              "20.500    44\n",
              "19.000    44\n",
              "10.100    44\n",
              "9.000     44\n",
              "18.200    43\n",
              "10.000    43\n",
              "10.300    43\n",
              "16.200    43\n",
              "11.100    42\n",
              "13.350    42\n",
              "19.100    41\n",
              "17.500    41\n",
              "14.150    41\n",
              "16.100    41\n",
              "13.000    40\n",
              "15.350    40\n",
              "20.750    39\n",
              "19.850    39\n",
              "19.200    39\n",
              "11.650    39\n",
              "13.100    39\n",
              "18.000    38\n",
              "20.600    38\n",
              "18.700    38\n",
              "18.350    37\n",
              "18.600    37\n",
              "17.350    37\n",
              "17.100    36\n",
              "12.650    36\n",
              "10.895    36\n",
              "17.000    36\n",
              "8.895     35\n",
              "20.850    35\n",
              "14.300    35\n",
              "10.800    35\n",
              "19.500    34\n",
              "13.800    34\n",
              "9.695     34\n",
              "14.850    34\n",
              "11.300    33\n",
              "9.395     32\n",
              "20.100    32\n",
              "20.000    32\n",
              "11.350    29\n",
              "11.150    29\n",
              "16.600    29\n",
              "16.850    29\n",
              "12.800    27\n",
              "14.650    27\n",
              "8.600     27\n",
              "7.500     26\n",
              "10.695    26\n",
              "18.500    26\n",
              "11.000    26\n",
              "13.850    25\n",
              "19.250    25\n",
              "18.750    24\n",
              "21.250    24\n",
              "16.250    24\n",
              "13.600    23\n",
              "19.750    23\n",
              "14.100    23\n",
              "14.600    21\n",
              "13.300    21\n",
              "15.250    21\n",
              "9.100     20\n",
              "5.880     19\n",
              "14.800    19\n",
              "7.390     18\n",
              "10.600    18\n",
              "21.100    17\n",
              "7.720     17\n",
              "14.350    17\n",
              "10.650    17\n",
              "7.825     16\n",
              "7.235     16\n",
              "15.750    16\n",
              "10.395    16\n",
              "6.865     16\n",
              "17.200    16\n",
              "5.785     15\n",
              "7.420     15\n",
              "7.905     15\n",
              "8.710     15\n",
              "9.895     15\n",
              "8.270     15\n",
              "5.780     15\n",
              "5.175     15\n",
              "11.395    15\n",
              "6.135     15\n",
              "5.820     15\n",
              "8.420     15\n",
              "7.270     15\n",
              "7.075     14\n",
              "15.150    14\n",
              "11.850    14\n",
              "14.700    14\n",
              "7.475     13\n",
              "18.100    13\n",
              "12.000    13\n",
              "6.780     13\n",
              "8.300     13\n",
              "7.855     12\n",
              "8.930     12\n",
              "7.285     12\n",
              "7.970     12\n",
              "6.360     12\n",
              "8.365     12\n",
              "6.635     12\n",
              "7.785     12\n",
              "6.425     12\n",
              "8.180     12\n",
              "6.130     12\n",
              "6.590     12\n",
              "8.880     12\n",
              "8.850     12\n",
              "6.110     12\n",
              "5.460     12\n",
              "5.655     12\n",
              "8.510     11\n",
              "8.975     11\n",
              "10.850    11\n",
              "8.235     11\n",
              "8.630     11\n",
              "8.390     11\n",
              "6.215     11\n",
              "7.405     11\n",
              "8.395     11\n",
              "6.670     11\n",
              "7.365     11\n",
              "5.940     10\n",
              "8.210     10\n",
              "8.100     10\n",
              "7.050     10\n",
              "7.680     10\n",
              "7.550     10\n",
              "8.355     10\n",
              "6.055     10\n",
              "7.020     10\n",
              "7.750     10\n",
              "6.650     10\n",
              "8.430      9\n",
              "6.235      9\n",
              "6.920      9\n",
              "7.810      9\n",
              "8.185      9\n",
              "6.675      9\n",
              "6.615      9\n",
              "5.980      9\n",
              "6.710      9\n",
              "7.895      9\n",
              "6.825      9\n",
              "6.035      9\n",
              "8.260      9\n",
              "7.935      9\n",
              "7.630      9\n",
              "6.630      8\n",
              "6.380      8\n",
              "8.785      8\n",
              "6.385      8\n",
              "8.020      8\n",
              "6.260      8\n",
              "8.500      8\n",
              "6.115      8\n",
              "8.645      8\n",
              "5.365      8\n",
              "7.930      8\n",
              "7.725      8\n",
              "5.765      8\n",
              "6.550      8\n",
              "7.510      8\n",
              "8.575      8\n",
              "15.300     8\n",
              "7.520      8\n",
              "5.985      8\n",
              "8.050      8\n",
              "6.320      7\n",
              "8.770      7\n",
              "5.150      7\n",
              "7.975      7\n",
              "9.285      7\n",
              "5.260      7\n",
              "21.350     7\n",
              "7.670      7\n",
              "4.610      7\n",
              "8.155      7\n",
              "5.945      7\n",
              "7.435      7\n",
              "5.695      7\n",
              "8.060      7\n",
              "7.000      7\n",
              "7.035      6\n",
              "7.600      6\n",
              "8.315      6\n",
              "6.800      6\n",
              "21.000     6\n",
              "8.195      6\n",
              "5.465      6\n",
              "7.300      6\n",
              "7.350      6\n",
              "7.210      6\n",
              "6.465      6\n",
              "5.590      6\n",
              "8.380      6\n",
              "8.010      6\n",
              "6.850      6\n",
              "8.775      6\n",
              "6.030      6\n",
              "8.750      6\n",
              "6.695      6\n",
              "6.570      6\n",
              "7.220      6\n",
              "8.890      6\n",
              "6.980      6\n",
              "6.960      6\n",
              "6.445      6\n",
              "5.190      6\n",
              "5.730      6\n",
              "9.310      6\n",
              "8.520      6\n",
              "5.320      6\n",
              "5.615      6\n",
              "7.655      6\n",
              "5.325      5\n",
              "7.315      5\n",
              "5.110      5\n",
              "5.800      5\n",
              "4.635      5\n",
              "5.480      5\n",
              "7.155      5\n",
              "5.405      5\n",
              "5.440      5\n",
              "6.765      5\n",
              "6.890      5\n",
              "7.310      5\n",
              "7.145      5\n",
              "8.905      5\n",
              "6.195      5\n",
              "5.095      5\n",
              "7.325      5\n",
              "6.300      5\n",
              "5.510      5\n",
              "8.960      5\n",
              "4.880      5\n",
              "9.170      5\n",
              "6.985      5\n",
              "8.970      5\n",
              "21.200     5\n",
              "8.655      5\n",
              "9.130      5\n",
              "5.920      5\n",
              "8.985      5\n",
              "5.500      5\n",
              "6.155      5\n",
              "8.680      5\n",
              "5.925      5\n",
              "6.750      5\n",
              "4.590      5\n",
              "6.715      5\n",
              "8.695      5\n",
              "6.575      5\n",
              "6.480      5\n",
              "6.150      5\n",
              "4.785      5\n",
              "8.310      5\n",
              "8.945      5\n",
              "7.760      5\n",
              "7.945      5\n",
              "6.785      5\n",
              "4.920      5\n",
              "7.575      5\n",
              "7.470      5\n",
              "6.365      5\n",
              "8.935      4\n",
              "7.445      4\n",
              "7.485      4\n",
              "4.555      4\n",
              "7.360      4\n",
              "9.210      4\n",
              "6.420      4\n",
              "5.485      4\n",
              "6.175      4\n",
              "7.170      4\n",
              "8.615      4\n",
              "5.340      4\n",
              "7.640      4\n",
              "6.170      4\n",
              "5.905      4\n",
              "7.960      4\n",
              "6.760      4\n",
              "5.630      4\n",
              "6.655      4\n",
              "5.030      4\n",
              "7.840      4\n",
              "6.860      4\n",
              "8.325      4\n",
              "6.965      4\n",
              "6.690      4\n",
              "7.850      4\n",
              "7.090      4\n",
              "8.115      4\n",
              "7.535      4\n",
              "6.610      4\n",
              "5.635      4\n",
              "7.645      4\n",
              "14.750     4\n",
              "5.035      4\n",
              "5.860      4\n",
              "4.805      4\n",
              "6.885      4\n",
              "7.060      4\n",
              "7.865      4\n",
              "9.270      4\n",
              "4.615      4\n",
              "7.100      4\n",
              "6.095      4\n",
              "8.840      4\n",
              "9.065      4\n",
              "6.525      4\n",
              "7.590      4\n",
              "5.750      4\n",
              "6.280      4\n",
              "8.760      4\n",
              "6.305      3\n",
              "5.305      3\n",
              "8.000      3\n",
              "6.935      3\n",
              "7.710      3\n",
              "7.105      3\n",
              "6.460      3\n",
              "7.260      3\n",
              "8.275      3\n",
              "5.825      3\n",
              "9.105      3\n",
              "5.425      3\n",
              "5.845      3\n",
              "7.070      3\n",
              "9.060      3\n",
              "7.565      3\n",
              "9.035      3\n",
              "5.000      3\n",
              "6.440      3\n",
              "8.350      3\n",
              "6.905      3\n",
              "6.895      2\n",
              "6.400      2\n",
              "7.605      2\n",
              "8.670      2\n",
              "5.210      2\n",
              "8.485      2\n",
              "6.775      2\n",
              "7.890      2\n",
              "5.155      2\n",
              "5.885      2\n",
              "4.905      2\n",
              "7.560      2\n",
              "6.325      2\n",
              "8.800      2\n",
              "6.405      2\n",
              "5.675      2\n",
              "8.920      2\n",
              "5.735      2\n",
              "7.275      2\n",
              "7.685      1\n",
              "9.420      1\n",
              "6.520      1\n",
              "5.400      1\n",
              "Name: Item_Weight, dtype: int64"
            ]
          },
          "metadata": {},
          "execution_count": 54
        }
      ]
    },
    {
      "cell_type": "code",
      "source": [
        "ax = sns.countplot(data = df, x = 'Item_Weight');"
      ],
      "metadata": {
        "colab": {
          "base_uri": "https://localhost:8080/",
          "height": 561
        },
        "id": "jrgHfTUGlnBP",
        "outputId": "875ee01f-72d6-449d-8dc9-18be9aa07221"
      },
      "execution_count": 55,
      "outputs": [
        {
          "output_type": "display_data",
          "data": {
            "text/plain": [
              "<Figure size 921.6x633.6 with 1 Axes>"
            ],
            "image/png": "[encoded data removed]"
          },
          "metadata": {}
        }
      ]
    },
    {
      "cell_type": "markdown",
      "source": [
        "* For this column I chose to use the median for the missing values because weight is considered continous data type."
      ],
      "metadata": {
        "id": "x65LDP26gmSz"
      }
    },
    {
      "cell_type": "code",
      "source": [
        "mean_age = df['Item_Weight'].median()\n",
        "print(mean_age)\n",
        "\n"
      ],
      "metadata": {
        "colab": {
          "base_uri": "https://localhost:8080/"
        },
        "id": "o83_LV47nIzI",
        "outputId": "75c1625c-8818-4b08-e976-fdede19d8903"
      },
      "execution_count": 56,
      "outputs": [
        {
          "output_type": "stream",
          "name": "stdout",
          "text": [
            "12.6\n"
          ]
        }
      ]
    },
    {
      "cell_type": "code",
      "source": [
        "df['Item_Weight'] = df['Item_Weight'].fillna(value = '12.6')\n",
        "\n",
        "df['Item_Weight'].value_counts()"
      ],
      "metadata": {
        "colab": {
          "base_uri": "https://localhost:8080/"
        },
        "id": "TQ8ieHqi10JJ",
        "outputId": "1abf9306-eb40-48dc-eeaf-65537133c953"
      },
      "execution_count": 57,
      "outputs": [
        {
          "output_type": "execute_result",
          "data": {
            "text/plain": [
              "12.6      1463\n",
              "12.15       86\n",
              "17.6        82\n",
              "13.65       77\n",
              "11.8        76\n",
              "15.1        68\n",
              "9.3         68\n",
              "16.7        66\n",
              "10.5        66\n",
              "19.35       63\n",
              "20.7        62\n",
              "16.0        62\n",
              "9.8         61\n",
              "17.75       60\n",
              "17.7        60\n",
              "18.85       59\n",
              "15.0        59\n",
              "15.85       59\n",
              "16.75       58\n",
              "19.6        58\n",
              "18.25       58\n",
              "15.7        57\n",
              "12.5        56\n",
              "9.195       56\n",
              "12.6        53\n",
              "12.1        53\n",
              "10.195      53\n",
              "20.2        53\n",
              "15.6        52\n",
              "13.5        51\n",
              "11.5        51\n",
              "12.35       50\n",
              "20.25       50\n",
              "11.6        50\n",
              "19.7        50\n",
              "12.3        49\n",
              "9.5         49\n",
              "9.6         49\n",
              "12.85       49\n",
              "13.15       49\n",
              "17.85       48\n",
              "14.0        47\n",
              "20.35       47\n",
              "15.5        47\n",
              "16.35       46\n",
              "15.2        46\n",
              "16.5        46\n",
              "17.25       45\n",
              "14.5        44\n",
              "20.5        44\n",
              "9.0         44\n",
              "19.0        44\n",
              "10.1        44\n",
              "10.0        43\n",
              "18.2        43\n",
              "16.2        43\n",
              "10.3        43\n",
              "13.35       42\n",
              "11.1        42\n",
              "14.15       41\n",
              "19.1        41\n",
              "16.1        41\n",
              "17.5        41\n",
              "15.35       40\n",
              "13.0        40\n",
              "13.1        39\n",
              "19.2        39\n",
              "11.65       39\n",
              "20.75       39\n",
              "19.85       39\n",
              "20.6        38\n",
              "18.0        38\n",
              "18.7        38\n",
              "17.35       37\n",
              "18.6        37\n",
              "18.35       37\n",
              "12.65       36\n",
              "17.0        36\n",
              "17.1        36\n",
              "10.895      36\n",
              "10.8        35\n",
              "8.895       35\n",
              "20.85       35\n",
              "14.3        35\n",
              "19.5        34\n",
              "13.8        34\n",
              "9.695       34\n",
              "14.85       34\n",
              "11.3        33\n",
              "9.395       32\n",
              "20.1        32\n",
              "20.0        32\n",
              "11.35       29\n",
              "11.15       29\n",
              "16.6        29\n",
              "16.85       29\n",
              "12.8        27\n",
              "14.65       27\n",
              "8.6         27\n",
              "7.5         26\n",
              "10.695      26\n",
              "18.5        26\n",
              "11.0        26\n",
              "13.85       25\n",
              "19.25       25\n",
              "18.75       24\n",
              "21.25       24\n",
              "16.25       24\n",
              "13.6        23\n",
              "19.75       23\n",
              "14.1        23\n",
              "14.6        21\n",
              "13.3        21\n",
              "15.25       21\n",
              "9.1         20\n",
              "5.88        19\n",
              "14.8        19\n",
              "7.39        18\n",
              "10.6        18\n",
              "21.1        17\n",
              "7.72        17\n",
              "14.35       17\n",
              "10.65       17\n",
              "7.825       16\n",
              "7.235       16\n",
              "15.75       16\n",
              "10.395      16\n",
              "6.865       16\n",
              "17.2        16\n",
              "5.785       15\n",
              "7.42        15\n",
              "7.905       15\n",
              "8.71        15\n",
              "9.895       15\n",
              "8.27        15\n",
              "5.78        15\n",
              "5.175       15\n",
              "11.395      15\n",
              "6.135       15\n",
              "5.82        15\n",
              "8.42        15\n",
              "7.27        15\n",
              "7.075       14\n",
              "15.15       14\n",
              "11.85       14\n",
              "14.7        14\n",
              "7.475       13\n",
              "18.1        13\n",
              "12.0        13\n",
              "6.78        13\n",
              "8.3         13\n",
              "7.855       12\n",
              "8.93        12\n",
              "7.285       12\n",
              "7.97        12\n",
              "6.36        12\n",
              "8.365       12\n",
              "6.635       12\n",
              "7.785       12\n",
              "6.425       12\n",
              "8.18        12\n",
              "6.13        12\n",
              "6.59        12\n",
              "8.88        12\n",
              "8.85        12\n",
              "6.11        12\n",
              "5.46        12\n",
              "5.655       12\n",
              "8.51        11\n",
              "8.975       11\n",
              "10.85       11\n",
              "8.235       11\n",
              "8.63        11\n",
              "8.39        11\n",
              "6.215       11\n",
              "7.405       11\n",
              "8.395       11\n",
              "6.67        11\n",
              "7.365       11\n",
              "5.94        10\n",
              "8.21        10\n",
              "8.1         10\n",
              "7.05        10\n",
              "7.68        10\n",
              "7.55        10\n",
              "8.355       10\n",
              "6.055       10\n",
              "7.02        10\n",
              "7.75        10\n",
              "6.65        10\n",
              "8.43         9\n",
              "6.235        9\n",
              "6.92         9\n",
              "7.81         9\n",
              "8.185        9\n",
              "6.675        9\n",
              "6.615        9\n",
              "5.98         9\n",
              "6.71         9\n",
              "7.895        9\n",
              "6.825        9\n",
              "6.035        9\n",
              "8.26         9\n",
              "7.935        9\n",
              "7.63         9\n",
              "6.63         8\n",
              "6.38         8\n",
              "8.785        8\n",
              "6.385        8\n",
              "8.02         8\n",
              "6.26         8\n",
              "8.5          8\n",
              "6.115        8\n",
              "8.645        8\n",
              "5.365        8\n",
              "7.93         8\n",
              "7.725        8\n",
              "5.765        8\n",
              "6.55         8\n",
              "7.51         8\n",
              "8.575        8\n",
              "15.3         8\n",
              "7.52         8\n",
              "5.985        8\n",
              "8.05         8\n",
              "6.32         7\n",
              "8.77         7\n",
              "5.15         7\n",
              "7.975        7\n",
              "9.285        7\n",
              "5.26         7\n",
              "21.35        7\n",
              "7.67         7\n",
              "4.61         7\n",
              "8.155        7\n",
              "5.945        7\n",
              "7.435        7\n",
              "5.695        7\n",
              "8.06         7\n",
              "7.0          7\n",
              "7.035        6\n",
              "7.6          6\n",
              "8.315        6\n",
              "6.8          6\n",
              "21.0         6\n",
              "8.195        6\n",
              "5.465        6\n",
              "7.3          6\n",
              "7.35         6\n",
              "7.21         6\n",
              "6.465        6\n",
              "5.59         6\n",
              "8.38         6\n",
              "8.01         6\n",
              "6.85         6\n",
              "8.775        6\n",
              "6.03         6\n",
              "8.75         6\n",
              "6.695        6\n",
              "6.57         6\n",
              "7.22         6\n",
              "8.89         6\n",
              "6.98         6\n",
              "6.96         6\n",
              "6.445        6\n",
              "5.19         6\n",
              "5.73         6\n",
              "9.31         6\n",
              "8.52         6\n",
              "5.32         6\n",
              "5.615        6\n",
              "7.655        6\n",
              "5.325        5\n",
              "7.315        5\n",
              "5.11         5\n",
              "5.8          5\n",
              "4.635        5\n",
              "5.48         5\n",
              "7.155        5\n",
              "5.405        5\n",
              "5.44         5\n",
              "6.765        5\n",
              "6.89         5\n",
              "7.31         5\n",
              "7.145        5\n",
              "8.905        5\n",
              "6.195        5\n",
              "5.095        5\n",
              "7.325        5\n",
              "6.3          5\n",
              "5.51         5\n",
              "8.96         5\n",
              "4.88         5\n",
              "9.17         5\n",
              "6.985        5\n",
              "8.97         5\n",
              "21.2         5\n",
              "8.655        5\n",
              "9.13         5\n",
              "5.92         5\n",
              "8.985        5\n",
              "5.5          5\n",
              "6.155        5\n",
              "8.68         5\n",
              "5.925        5\n",
              "6.75         5\n",
              "4.59         5\n",
              "6.715        5\n",
              "8.695        5\n",
              "6.575        5\n",
              "6.48         5\n",
              "6.15         5\n",
              "4.785        5\n",
              "8.31         5\n",
              "8.945        5\n",
              "7.76         5\n",
              "7.945        5\n",
              "6.785        5\n",
              "4.92         5\n",
              "7.575        5\n",
              "7.47         5\n",
              "6.365        5\n",
              "8.935        4\n",
              "7.445        4\n",
              "7.485        4\n",
              "4.555        4\n",
              "7.36         4\n",
              "9.21         4\n",
              "6.42         4\n",
              "5.485        4\n",
              "6.175        4\n",
              "7.17         4\n",
              "8.615        4\n",
              "5.34         4\n",
              "7.64         4\n",
              "6.17         4\n",
              "5.905        4\n",
              "7.96         4\n",
              "6.76         4\n",
              "5.63         4\n",
              "6.655        4\n",
              "5.03         4\n",
              "7.84         4\n",
              "6.86         4\n",
              "8.325        4\n",
              "6.965        4\n",
              "6.69         4\n",
              "7.85         4\n",
              "7.09         4\n",
              "8.115        4\n",
              "7.535        4\n",
              "6.61         4\n",
              "5.635        4\n",
              "7.645        4\n",
              "14.75        4\n",
              "5.035        4\n",
              "5.86         4\n",
              "4.805        4\n",
              "6.885        4\n",
              "7.06         4\n",
              "7.865        4\n",
              "9.27         4\n",
              "4.615        4\n",
              "7.1          4\n",
              "6.095        4\n",
              "8.84         4\n",
              "9.065        4\n",
              "6.525        4\n",
              "7.59         4\n",
              "5.75         4\n",
              "6.28         4\n",
              "8.76         4\n",
              "6.305        3\n",
              "5.305        3\n",
              "8.0          3\n",
              "6.935        3\n",
              "7.71         3\n",
              "7.105        3\n",
              "6.46         3\n",
              "7.26         3\n",
              "8.275        3\n",
              "5.825        3\n",
              "9.105        3\n",
              "5.425        3\n",
              "5.845        3\n",
              "7.07         3\n",
              "9.06         3\n",
              "7.565        3\n",
              "9.035        3\n",
              "5.0          3\n",
              "6.44         3\n",
              "8.35         3\n",
              "6.905        3\n",
              "6.895        2\n",
              "6.4          2\n",
              "7.605        2\n",
              "8.67         2\n",
              "5.21         2\n",
              "8.485        2\n",
              "6.775        2\n",
              "7.89         2\n",
              "5.155        2\n",
              "5.885        2\n",
              "4.905        2\n",
              "7.56         2\n",
              "6.325        2\n",
              "8.8          2\n",
              "6.405        2\n",
              "5.675        2\n",
              "8.92         2\n",
              "5.735        2\n",
              "7.275        2\n",
              "7.685        1\n",
              "9.42         1\n",
              "6.52         1\n",
              "5.4          1\n",
              "Name: Item_Weight, dtype: int64"
            ]
          },
          "metadata": {},
          "execution_count": 57
        }
      ]
    },
    {
      "cell_type": "code",
      "source": [
        "df.isna().sum()"
      ],
      "metadata": {
        "colab": {
          "base_uri": "https://localhost:8080/"
        },
        "id": "_Ob-uzpaoCFV",
        "outputId": "d24ed1d0-7267-4f59-ada3-5deb24860d03"
      },
      "execution_count": 58,
      "outputs": [
        {
          "output_type": "execute_result",
          "data": {
            "text/plain": [
              "Item_Identifier                 0\n",
              "Item_Weight                     0\n",
              "Item_Fat_Content                0\n",
              "Item_Visibility                 0\n",
              "Item_Type                       0\n",
              "Item_MRP                        0\n",
              "Outlet_Identifier               0\n",
              "Outlet_Establishment_Year       0\n",
              "Outlet_Size                  2410\n",
              "Outlet_Location_Type            0\n",
              "Outlet_Type                     0\n",
              "Item_Outlet_Sales               0\n",
              "dtype: int64"
            ]
          },
          "metadata": {},
          "execution_count": 58
        }
      ]
    },
    {
      "cell_type": "code",
      "source": [
        "ax = sns.histplot(data = df, x = 'Outlet_Size')"
      ],
      "metadata": {
        "colab": {
          "base_uri": "https://localhost:8080/",
          "height": 561
        },
        "id": "YBc0rJRspmLe",
        "outputId": "84f3121c-74b1-4ab7-b904-686617ffbb0f"
      },
      "execution_count": 59,
      "outputs": [
        {
          "output_type": "display_data",
          "data": {
            "text/plain": [
              "<Figure size 921.6x633.6 with 1 Axes>"
            ],
            "image/png": "[encoded data removed]"
          },
          "metadata": {}
        }
      ]
    },
    {
      "cell_type": "markdown",
      "source": [
        "* For this column I chose to use unknown for the missing values since this is categorical ordinal data type. I felt like using mode would provide inaccurate information. "
      ],
      "metadata": {
        "id": "fFR3XJedhvJz"
      }
    },
    {
      "cell_type": "code",
      "source": [
        "df['Outlet_Size'] = df['Outlet_Size'].fillna(value = 'Unknown')\n",
        "df['Outlet_Size'].value_counts()"
      ],
      "metadata": {
        "colab": {
          "base_uri": "https://localhost:8080/"
        },
        "id": "nS9lTVgbqlRv",
        "outputId": "eced4486-35e7-42bd-9b1d-9aeacf91e3cd"
      },
      "execution_count": 60,
      "outputs": [
        {
          "output_type": "execute_result",
          "data": {
            "text/plain": [
              "Medium     2793\n",
              "Unknown    2410\n",
              "Small      2388\n",
              "High        932\n",
              "Name: Outlet_Size, dtype: int64"
            ]
          },
          "metadata": {},
          "execution_count": 60
        }
      ]
    },
    {
      "cell_type": "code",
      "source": [
        "df.isna().sum()\n",
        "df.info()"
      ],
      "metadata": {
        "colab": {
          "base_uri": "https://localhost:8080/"
        },
        "id": "FdbtKK-6rfI0",
        "outputId": "20db3dcb-8654-4e9b-8090-bc1b621775f8"
      },
      "execution_count": 61,
      "outputs": [
        {
          "output_type": "stream",
          "name": "stdout",
          "text": [
            "<class 'pandas.core.frame.DataFrame'>\n",
            "RangeIndex: 8523 entries, 0 to 8522\n",
            "Data columns (total 12 columns):\n",
            " #   Column                     Non-Null Count  Dtype  \n",
            "---  ------                     --------------  -----  \n",
            " 0   Item_Identifier            8523 non-null   object \n",
            " 1   Item_Weight                8523 non-null   object \n",
            " 2   Item_Fat_Content           8523 non-null   object \n",
            " 3   Item_Visibility            8523 non-null   float64\n",
            " 4   Item_Type                  8523 non-null   object \n",
            " 5   Item_MRP                   8523 non-null   float64\n",
            " 6   Outlet_Identifier          8523 non-null   object \n",
            " 7   Outlet_Establishment_Year  8523 non-null   int64  \n",
            " 8   Outlet_Size                8523 non-null   object \n",
            " 9   Outlet_Location_Type       8523 non-null   object \n",
            " 10  Outlet_Type                8523 non-null   object \n",
            " 11  Item_Outlet_Sales          8523 non-null   float64\n",
            "dtypes: float64(3), int64(1), object(8)\n",
            "memory usage: 799.2+ KB\n"
          ]
        }
      ]
    },
    {
      "cell_type": "code",
      "source": [
        "pd.set_option('display.max_rows', None)\n",
        "#df['Item_Weight'].value_counts()\n",
        "     "
      ],
      "metadata": {
        "id": "4c-z2hm93RPR"
      },
      "execution_count": 62,
      "outputs": []
    },
    {
      "cell_type": "markdown",
      "source": [
        "* Commented last item ^ "
      ],
      "metadata": {
        "id": "dwsTo5lhoAAm"
      }
    },
    {
      "cell_type": "code",
      "source": [],
      "metadata": {
        "id": "hazz4bQ0p0Nt"
      },
      "execution_count": 62,
      "outputs": []
    },
    {
      "cell_type": "code",
      "source": [
        "df['Item_Weight'] = df['Item_Weight'].astype('float')\n",
        "#print(df['Item_Weight'])"
      ],
      "metadata": {
        "id": "qTvwzmdB4VtV"
      },
      "execution_count": 63,
      "outputs": []
    },
    {
      "cell_type": "markdown",
      "source": [
        "* commented ^ print "
      ],
      "metadata": {
        "id": "IzgH5NOnpqfg"
      }
    },
    {
      "cell_type": "code",
      "source": [
        "\n",
        "data_types = df.dtypes\n",
        "str_cols = data_types[data_types=='object'].index\n",
        "str_cols"
      ],
      "metadata": {
        "colab": {
          "base_uri": "https://localhost:8080/"
        },
        "id": "5qPZIZrp86UU",
        "outputId": "e744bc5a-056e-4ec6-b2d5-fac5f3b92372"
      },
      "execution_count": 64,
      "outputs": [
        {
          "output_type": "execute_result",
          "data": {
            "text/plain": [
              "Index(['Item_Identifier', 'Item_Fat_Content', 'Item_Type', 'Outlet_Identifier',\n",
              "       'Outlet_Size', 'Outlet_Location_Type', 'Outlet_Type'],\n",
              "      dtype='object')"
            ]
          },
          "metadata": {},
          "execution_count": 64
        }
      ]
    },
    {
      "cell_type": "code",
      "source": [
        "\n",
        "for col in str_cols:\n",
        "    print(f'- {col}:')\n",
        "    #print(df[col].value_counts(dropna=False))\n",
        "    #print(\"\\n\\n\")"
      ],
      "metadata": {
        "colab": {
          "base_uri": "https://localhost:8080/"
        },
        "id": "KuMpMTVj9fTD",
        "outputId": "aaa44301-1844-485e-a7b5-40934f3b06e2"
      },
      "execution_count": 65,
      "outputs": [
        {
          "output_type": "stream",
          "name": "stdout",
          "text": [
            "- Item_Identifier:\n",
            "- Item_Fat_Content:\n",
            "- Item_Type:\n",
            "- Outlet_Identifier:\n",
            "- Outlet_Size:\n",
            "- Outlet_Location_Type:\n",
            "- Outlet_Type:\n"
          ]
        }
      ]
    },
    {
      "cell_type": "code",
      "source": [
        "Fat_Content = {'LF':'Low Fat','reg':'Regular','low fat':'Low Fat'}\n",
        "#print(Fat_Content)\n",
        "\n",
        "#df['Item_fat_Content'] = df['Item_Fat_Content'].replace(Fat_Content)\n",
        "new_Item_Fat_Content = df['Item_Fat_Content'].replace(['LF','low fat','reg'], ['Low Fat','Low Fat', 'Regular'])\n",
        "#df['Item_Fat_Content'].replace(['LF','low fat','reg'], ['Low Fat','Low Fat', 'Regular'])\n",
        "#print(df['Item_fat_Content'])\n",
        "#df['Item_fat_Content'].head()\n",
        "#print(new_Item_Fat_Content)"
      ],
      "metadata": {
        "id": "-4UZNTVW-oIw"
      },
      "execution_count": 66,
      "outputs": []
    },
    {
      "cell_type": "code",
      "source": [
        "new_Item_Fat_Content.value_counts()"
      ],
      "metadata": {
        "colab": {
          "base_uri": "https://localhost:8080/"
        },
        "id": "I0_osGXZAWMx",
        "outputId": "0f403737-3324-4fa9-8bcb-093985f46ad9"
      },
      "execution_count": 67,
      "outputs": [
        {
          "output_type": "execute_result",
          "data": {
            "text/plain": [
              "Low Fat    5517\n",
              "Regular    3006\n",
              "Name: Item_Fat_Content, dtype: int64"
            ]
          },
          "metadata": {},
          "execution_count": 67
        }
      ]
    },
    {
      "cell_type": "code",
      "source": [
        "#df.describe().round(2)\n",
        "\n",
        "stats =  df.describe()\n",
        "stats.loc[['mean','min','max']]"
      ],
      "metadata": {
        "colab": {
          "base_uri": "https://localhost:8080/",
          "height": 143
        },
        "id": "gvWIa2PJIZZp",
        "outputId": "6d1de318-b358-4a35-c09d-43474399df22"
      },
      "execution_count": 68,
      "outputs": [
        {
          "output_type": "execute_result",
          "data": {
            "text/plain": [
              "      Item_Weight  Item_Visibility    Item_MRP  Outlet_Establishment_Year  \\\n",
              "mean     12.81342         0.066132  140.992782                1997.831867   \n",
              "min       4.55500         0.000000   31.290000                1985.000000   \n",
              "max      21.35000         0.328391  266.888400                2009.000000   \n",
              "\n",
              "      Item_Outlet_Sales  \n",
              "mean        2181.288914  \n",
              "min           33.290000  \n",
              "max        13086.964800  "
            ],
            "text/html": [
              "\n",
              "  <div id=\"df-8ffdeb1a-e362-4259-b0ca-ae220442a49f\">\n",
              "    <div class=\"colab-df-container\">\n",
              "      <div>\n",
              "<style scoped>\n",
              "    .dataframe tbody tr th:only-of-type {\n",
              "        vertical-align: middle;\n",
              "    }\n",
              "\n",
              "    .dataframe tbody tr th {\n",
              "        vertical-align: top;\n",
              "    }\n",
              "\n",
              "    .dataframe thead th {\n",
              "        text-align: right;\n",
              "    }\n",
              "</style>\n",
              "<table border=\"1\" class=\"dataframe\">\n",
              "  <thead>\n",
              "    <tr style=\"text-align: right;\">\n",
              "      <th></th>\n",
              "      <th>Item_Weight</th>\n",
              "      <th>Item_Visibility</th>\n",
              "      <th>Item_MRP</th>\n",
              "      <th>Outlet_Establishment_Year</th>\n",
              "      <th>Item_Outlet_Sales</th>\n",
              "    </tr>\n",
              "  </thead>\n",
              "  <tbody>\n",
              "    <tr>\n",
              "      <th>mean</th>\n",
              "      <td>12.81342</td>\n",
              "      <td>0.066132</td>\n",
              "      <td>140.992782</td>\n",
              "      <td>1997.831867</td>\n",
              "      <td>2181.288914</td>\n",
              "    </tr>\n",
              "    <tr>\n",
              "      <th>min</th>\n",
              "      <td>4.55500</td>\n",
              "      <td>0.000000</td>\n",
              "      <td>31.290000</td>\n",
              "      <td>1985.000000</td>\n",
              "      <td>33.290000</td>\n",
              "    </tr>\n",
              "    <tr>\n",
              "      <th>max</th>\n",
              "      <td>21.35000</td>\n",
              "      <td>0.328391</td>\n",
              "      <td>266.888400</td>\n",
              "      <td>2009.000000</td>\n",
              "      <td>13086.964800</td>\n",
              "    </tr>\n",
              "  </tbody>\n",
              "</table>\n",
              "</div>\n",
              "      <button class=\"colab-df-convert\" onclick=\"convertToInteractive('df-8ffdeb1a-e362-4259-b0ca-ae220442a49f')\"\n",
              "              title=\"Convert this dataframe to an interactive table.\"\n",
              "              style=\"display:none;\">\n",
              "        \n",
              "  <svg xmlns=\"http://www.w3.org/2000/svg\" height=\"24px\"viewBox=\"0 0 24 24\"\n",
              "       width=\"24px\">\n",
              "    <path d=\"M0 0h24v24H0V0z\" fill=\"none\"/>\n",
              "    <path d=\"M18.56 5.44l.94 2.06.94-2.06 2.06-.94-2.06-.94-.94-2.06-.94 2.06-2.06.94zm-11 1L8.5 8.5l.94-2.06 2.06-.94-2.06-.94L8.5 2.5l-.94 2.06-2.06.94zm10 10l.94 2.06.94-2.06 2.06-.94-2.06-.94-.94-2.06-.94 2.06-2.06.94z\"/><path d=\"M17.41 7.96l-1.37-1.37c-.4-.4-.92-.59-1.43-.59-.52 0-1.04.2-1.43.59L10.3 9.45l-7.72 7.72c-.78.78-.78 2.05 0 2.83L4 21.41c.39.39.9.59 1.41.59.51 0 1.02-.2 1.41-.59l7.78-7.78 2.81-2.81c.8-.78.8-2.07 0-2.86zM5.41 20L4 18.59l7.72-7.72 1.47 1.35L5.41 20z\"/>\n",
              "  </svg>\n",
              "      </button>\n",
              "      \n",
              "  <style>\n",
              "    .colab-df-container {\n",
              "      display:flex;\n",
              "      flex-wrap:wrap;\n",
              "      gap: 12px;\n",
              "    }\n",
              "\n",
              "    .colab-df-convert {\n",
              "      background-color: #E8F0FE;\n",
              "      border: none;\n",
              "      border-radius: 50%;\n",
              "      cursor: pointer;\n",
              "      display: none;\n",
              "      fill: #1967D2;\n",
              "      height: 32px;\n",
              "      padding: 0 0 0 0;\n",
              "      width: 32px;\n",
              "    }\n",
              "\n",
              "    .colab-df-convert:hover {\n",
              "      background-color: #E2EBFA;\n",
              "      box-shadow: 0px 1px 2px rgba(60, 64, 67, 0.3), 0px 1px 3px 1px rgba(60, 64, 67, 0.15);\n",
              "      fill: #174EA6;\n",
              "    }\n",
              "\n",
              "    [theme=dark] .colab-df-convert {\n",
              "      background-color: #3B4455;\n",
              "      fill: #D2E3FC;\n",
              "    }\n",
              "\n",
              "    [theme=dark] .colab-df-convert:hover {\n",
              "      background-color: #434B5C;\n",
              "      box-shadow: 0px 1px 3px 1px rgba(0, 0, 0, 0.15);\n",
              "      filter: drop-shadow(0px 1px 2px rgba(0, 0, 0, 0.3));\n",
              "      fill: #FFFFFF;\n",
              "    }\n",
              "  </style>\n",
              "\n",
              "      <script>\n",
              "        const buttonEl =\n",
              "          document.querySelector('#df-8ffdeb1a-e362-4259-b0ca-ae220442a49f button.colab-df-convert');\n",
              "        buttonEl.style.display =\n",
              "          google.colab.kernel.accessAllowed ? 'block' : 'none';\n",
              "\n",
              "        async function convertToInteractive(key) {\n",
              "          const element = document.querySelector('#df-8ffdeb1a-e362-4259-b0ca-ae220442a49f');\n",
              "          const dataTable =\n",
              "            await google.colab.kernel.invokeFunction('convertToInteractive',\n",
              "                                                     [key], {});\n",
              "          if (!dataTable) return;\n",
              "\n",
              "          const docLinkHtml = 'Like what you see? Visit the ' +\n",
              "            '<a target=\"_blank\" href=https://colab.research.google.com/notebooks/data_table.ipynb>data table notebook</a>'\n",
              "            + ' to learn more about interactive tables.';\n",
              "          element.innerHTML = '';\n",
              "          dataTable['output_type'] = 'display_data';\n",
              "          await google.colab.output.renderOutput(dataTable, element);\n",
              "          const docLink = document.createElement('div');\n",
              "          docLink.innerHTML = docLinkHtml;\n",
              "          element.appendChild(docLink);\n",
              "        }\n",
              "      </script>\n",
              "    </div>\n",
              "  </div>\n",
              "  "
            ]
          },
          "metadata": {},
          "execution_count": 68
        }
      ]
    },
    {
      "cell_type": "markdown",
      "source": [
        "## Exploratory Visuals"
      ],
      "metadata": {
        "id": "lHZX8GMKG4Ly"
      }
    },
    {
      "cell_type": "code",
      "source": [
        "#Histogram\n",
        "ax = df['Outlet_Establishment_Year'].hist(bins = 30, edgecolor = 'black')\n",
        "ax.tick_params(axis='x', rotation = 45)\n",
        "ax.ticklabel_format(style='plain')\n",
        "ax.set_title('Distribution per Year')\n",
        "ax.set_xlabel('Year')\n",
        "ax.set_ylabel('Items')\n",
        "\n"
      ],
      "metadata": {
        "colab": {
          "base_uri": "https://localhost:8080/",
          "height": 623
        },
        "id": "9kx5xqxKWer7",
        "outputId": "6f4d456c-55b6-4fcb-e7fd-81bacf359ca2"
      },
      "execution_count": 69,
      "outputs": [
        {
          "output_type": "execute_result",
          "data": {
            "text/plain": [
              "Text(0, 0.5, 'Items')"
            ]
          },
          "metadata": {},
          "execution_count": 69
        },
        {
          "output_type": "display_data",
          "data": {
            "text/plain": [
              "<Figure size 921.6x633.6 with 1 Axes>"
            ],
            "image/png": "[encoded data removed]"
          },
          "metadata": {}
        }
      ]
    },
    {
      "cell_type": "code",
      "source": [
        "ax = sns.boxplot(x='Item_Fat_Content', y='Item_Weight', data=df)\n",
        "ax.set_title(\"Comparing Item Fat Content vs Item Weight\");\n"
      ],
      "metadata": {
        "colab": {
          "base_uri": "https://localhost:8080/",
          "height": 582
        },
        "id": "6K3TDrmRbT5A",
        "outputId": "d09d2167-376a-42a6-8200-681528c2bcf7"
      },
      "execution_count": 75,
      "outputs": [
        {
          "output_type": "display_data",
          "data": {
            "text/plain": [
              "<Figure size 921.6x633.6 with 1 Axes>"
            ],
            "image/png": "[encoded data removed]"
          },
          "metadata": {}
        }
      ]
    },
    {
      "cell_type": "code",
      "source": [
        "sns.heatmap(corr, cmap = 'Greens', annot = True)"
      ],
      "metadata": {
        "colab": {
          "base_uri": "https://localhost:8080/",
          "height": 761
        },
        "id": "gm2P9u1uhlIT",
        "outputId": "daed7508-bb87-4e48-a2d2-1841df62eb43"
      },
      "execution_count": 71,
      "outputs": [
        {
          "output_type": "execute_result",
          "data": {
            "text/plain": [
              "<Axes: >"
            ]
          },
          "metadata": {},
          "execution_count": 71
        },
        {
          "output_type": "display_data",
          "data": {
            "text/plain": [
              "<Figure size 921.6x633.6 with 2 Axes>"
            ],
            "image/png": "[encoded data removed]"
          },
          "metadata": {}
        }
      ]
    },
    {
      "cell_type": "markdown",
      "source": [
        "## Explanatory Visuals"
      ],
      "metadata": {
        "id": "SxTMpMfwHBDq"
      }
    }
  ]
}